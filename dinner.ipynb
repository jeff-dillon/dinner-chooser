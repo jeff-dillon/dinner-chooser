{
 "cells": [
  {
   "cell_type": "markdown",
   "metadata": {},
   "source": [
    "# What's for Dinner?\n",
    "\n",
    "**Instructions**: Execute the code cell below and enter what you would like to \n",
    "eat from the available choices."
   ]
  },
  {
   "cell_type": "code",
   "execution_count": 1,
   "metadata": {},
   "outputs": [
    {
     "name": "stdout",
     "output_type": "stream",
     "text": [
      "You should eat at Taco City.\n"
     ]
    }
   ],
   "source": [
    "import random\n",
    "\n",
    "# list the restaurants for each type of food\n",
    "pasta_restaurants = ['Grassa Gramma', 'Sarino', 'Volare']\n",
    "taco_restaurants = ['Noche', 'Agave & Rye', 'Taco City']\n",
    "pizza_restaurants = ['Pizza Lupo', 'The Post', 'Square Cut', 'Pizza Donisi']\n",
    "burger_restaurants = ['Burger Boy', 'Toastys Tavern','Ollies Trolly']\n",
    "\n",
    "# use a dictionary to associate types of food with the restaurant lists\n",
    "restaurants_by_cuisine = {'pasta' : pasta_restaurants, 'taco' : taco_restaurants, 'pizza' : pizza_restaurants, 'burger' : burger_restaurants}\n",
    "\n",
    "# ask the user what they want to eat\n",
    "# include the available options in the prompt\n",
    "# loop (keep asking) until they pick a valid option\n",
    "selected_cuisine = ''\n",
    "cuisine_options = list(restaurants_by_cuisine.keys())\n",
    "while selected_cuisine not in cuisine_options:\n",
    "    selected_cuisine = input(f'What are you in the mood for? {cuisine_options}')\n",
    "\n",
    "# get the list of restaurants based on the type of food selected \n",
    "# choose a random restaurant from the list and tell the user\n",
    "selected_restaurant_list = restaurants_by_cuisine[selected_cuisine]\n",
    "selected_restaurant_name = random.choice(selected_restaurant_list)\n",
    "print(f'You should eat at {selected_restaurant_name}.')"
   ]
  }
 ],
 "metadata": {
  "kernelspec": {
   "display_name": "Python 3.9.2 ('venv': venv)",
   "language": "python",
   "name": "python3"
  },
  "language_info": {
   "codemirror_mode": {
    "name": "ipython",
    "version": 3
   },
   "file_extension": ".py",
   "mimetype": "text/x-python",
   "name": "python",
   "nbconvert_exporter": "python",
   "pygments_lexer": "ipython3",
   "version": "3.9.2"
  },
  "orig_nbformat": 4,
  "vscode": {
   "interpreter": {
    "hash": "243562f0ce38e18d52537b807778476a3d06c941a6cb0ef9bb880ea7f931ce64"
   }
  }
 },
 "nbformat": 4,
 "nbformat_minor": 2
}
